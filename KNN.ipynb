{
  "nbformat": 4,
  "nbformat_minor": 0,
  "metadata": {
    "colab": {
      "name": "KNN.ipynb",
      "provenance": [],
      "collapsed_sections": []
    },
    "kernelspec": {
      "name": "python3",
      "display_name": "Python 3"
    }
  },
  "cells": [
    {
      "cell_type": "markdown",
      "metadata": {
        "id": "f8N1mqgGv6oJ"
      },
      "source": [
        "# KNN\n",
        "\n",
        "The KNN classifier is given by \n",
        "\n",
        "$ g(x) = mode_{i \\in N_x} y_i $,\n",
        "\n",
        "where $N_X$ is the set of the $k$ nearest observations from $x$.\n",
        "\n",
        "The first step of the algorithm calculates the distance from the point $x$ to its neighbors. I use the euclidean distance to take the nearest observations from the interested point $x$.\n",
        "\n",
        "The second step is to take the $k$ neighbors.\n",
        "\n",
        "The last step calculates the mode of the $k$ neighbors.\n",
        "\n",
        "Reference\n",
        "https://machinelearningmastery.com/tutorial-to-implement-k-nearest-neighbors-in-python-from-scratch/\n"
      ]
    },
    {
      "cell_type": "code",
      "metadata": {
        "id": "1ikupiRRIBWC"
      },
      "source": [
        "import pandas as pd\n",
        "from math import sqrt\n",
        "import numpy as np"
      ],
      "execution_count": null,
      "outputs": []
    },
    {
      "cell_type": "markdown",
      "metadata": {
        "id": "4JISRz8etc5d"
      },
      "source": [
        "## Loading the iris-dataset"
      ]
    },
    {
      "cell_type": "code",
      "metadata": {
        "id": "Ex7Bd1c4wzgy"
      },
      "source": [
        "data = pd.read_csv('https://raw.githubusercontent.com/jbrownlee/Datasets/master/iris.csv', names = ('X1', 'X2', 'X3', 'X4', 'y'))"
      ],
      "execution_count": null,
      "outputs": []
    },
    {
      "cell_type": "code",
      "metadata": {
        "colab": {
          "base_uri": "https://localhost:8080/",
          "height": 206
        },
        "id": "RsyfLM1Hw89Q",
        "outputId": "ff4841a2-432d-45fe-d5aa-b2a6796d7694"
      },
      "source": [
        "data.head(5)"
      ],
      "execution_count": null,
      "outputs": [
        {
          "output_type": "execute_result",
          "data": {
            "text/html": [
              "<div>\n",
              "<style scoped>\n",
              "    .dataframe tbody tr th:only-of-type {\n",
              "        vertical-align: middle;\n",
              "    }\n",
              "\n",
              "    .dataframe tbody tr th {\n",
              "        vertical-align: top;\n",
              "    }\n",
              "\n",
              "    .dataframe thead th {\n",
              "        text-align: right;\n",
              "    }\n",
              "</style>\n",
              "<table border=\"1\" class=\"dataframe\">\n",
              "  <thead>\n",
              "    <tr style=\"text-align: right;\">\n",
              "      <th></th>\n",
              "      <th>X1</th>\n",
              "      <th>X2</th>\n",
              "      <th>X3</th>\n",
              "      <th>X4</th>\n",
              "      <th>y</th>\n",
              "    </tr>\n",
              "  </thead>\n",
              "  <tbody>\n",
              "    <tr>\n",
              "      <th>0</th>\n",
              "      <td>5.1</td>\n",
              "      <td>3.5</td>\n",
              "      <td>1.4</td>\n",
              "      <td>0.2</td>\n",
              "      <td>Iris-setosa</td>\n",
              "    </tr>\n",
              "    <tr>\n",
              "      <th>1</th>\n",
              "      <td>4.9</td>\n",
              "      <td>3.0</td>\n",
              "      <td>1.4</td>\n",
              "      <td>0.2</td>\n",
              "      <td>Iris-setosa</td>\n",
              "    </tr>\n",
              "    <tr>\n",
              "      <th>2</th>\n",
              "      <td>4.7</td>\n",
              "      <td>3.2</td>\n",
              "      <td>1.3</td>\n",
              "      <td>0.2</td>\n",
              "      <td>Iris-setosa</td>\n",
              "    </tr>\n",
              "    <tr>\n",
              "      <th>3</th>\n",
              "      <td>4.6</td>\n",
              "      <td>3.1</td>\n",
              "      <td>1.5</td>\n",
              "      <td>0.2</td>\n",
              "      <td>Iris-setosa</td>\n",
              "    </tr>\n",
              "    <tr>\n",
              "      <th>4</th>\n",
              "      <td>5.0</td>\n",
              "      <td>3.6</td>\n",
              "      <td>1.4</td>\n",
              "      <td>0.2</td>\n",
              "      <td>Iris-setosa</td>\n",
              "    </tr>\n",
              "  </tbody>\n",
              "</table>\n",
              "</div>"
            ],
            "text/plain": [
              "    X1   X2   X3   X4            y\n",
              "0  5.1  3.5  1.4  0.2  Iris-setosa\n",
              "1  4.9  3.0  1.4  0.2  Iris-setosa\n",
              "2  4.7  3.2  1.3  0.2  Iris-setosa\n",
              "3  4.6  3.1  1.5  0.2  Iris-setosa\n",
              "4  5.0  3.6  1.4  0.2  Iris-setosa"
            ]
          },
          "metadata": {
            "tags": []
          },
          "execution_count": 22
        }
      ]
    },
    {
      "cell_type": "code",
      "metadata": {
        "colab": {
          "base_uri": "https://localhost:8080/"
        },
        "id": "iV5Shzw7NI9V",
        "outputId": "498f7485-e7ca-485d-a36c-119a1cc8e013"
      },
      "source": [
        "data['y'].unique()"
      ],
      "execution_count": null,
      "outputs": [
        {
          "output_type": "execute_result",
          "data": {
            "text/plain": [
              "array(['Iris-setosa', 'Iris-versicolor', 'Iris-virginica'], dtype=object)"
            ]
          },
          "metadata": {
            "tags": []
          },
          "execution_count": 25
        }
      ]
    },
    {
      "cell_type": "code",
      "metadata": {
        "id": "bpxZAJMwMUHo"
      },
      "source": [
        "target = {'y': {\"Iris-setosa\": 1, 'Iris-versicolor': 2, 'Iris-virginica':3}}"
      ],
      "execution_count": null,
      "outputs": []
    },
    {
      "cell_type": "code",
      "metadata": {
        "colab": {
          "base_uri": "https://localhost:8080/"
        },
        "id": "sDTyaU3vNRwt",
        "outputId": "9ed0a5c1-a9fb-4f4f-b159-581014116ffc"
      },
      "source": [
        "data = data.replace(target)\n",
        "data['y'].unique()"
      ],
      "execution_count": null,
      "outputs": [
        {
          "output_type": "execute_result",
          "data": {
            "text/plain": [
              "array([1, 2, 3])"
            ]
          },
          "metadata": {
            "tags": []
          },
          "execution_count": 29
        }
      ]
    },
    {
      "cell_type": "code",
      "metadata": {
        "id": "TYdsISKZKxWG"
      },
      "source": [
        "X = data.iloc[:,0:4].values\n",
        "y = data['y'].values"
      ],
      "execution_count": null,
      "outputs": []
    },
    {
      "cell_type": "code",
      "metadata": {
        "id": "5WGVNnpVN10X"
      },
      "source": [
        "from sklearn.model_selection import train_test_split \n",
        "X_train, X_test, y_train, y_test = train_test_split(X, y, test_size = 0.2, random_state = 42, stratify = y)"
      ],
      "execution_count": null,
      "outputs": []
    },
    {
      "cell_type": "markdown",
      "metadata": {
        "id": "dtadOSxnt3NG"
      },
      "source": [
        "Now with the data already splitted and pre-processed I test the algorithm for only one observation. I call this observation 'xteste' and 'yteste'."
      ]
    },
    {
      "cell_type": "code",
      "metadata": {
        "id": "2yeUe4VhOE6H"
      },
      "source": [
        "xteste = X_test[0]\n",
        "yteste = y_test[0]"
      ],
      "execution_count": null,
      "outputs": []
    },
    {
      "cell_type": "markdown",
      "metadata": {
        "id": "ZWB1cYZ8uLRG"
      },
      "source": [
        "First I calculated the distance from the xteste for each point in my train data (X_train) and saved it in a list called 'distances'."
      ]
    },
    {
      "cell_type": "code",
      "metadata": {
        "id": "ewigexEIOEie"
      },
      "source": [
        "distances = list()\n",
        "c = -1\n",
        "for row in X_train:\n",
        "  distance = 0.0\n",
        "  c += 1\n",
        "  for i in range(len(row)):\n",
        "    distance += (row[i] - xteste[i])**2\n",
        "  distances.append((y_train[c], np.sqrt(distance)))\n",
        "\n"
      ],
      "execution_count": null,
      "outputs": []
    },
    {
      "cell_type": "markdown",
      "metadata": {
        "id": "kx9PU2gUugh2"
      },
      "source": [
        "Now I sort the list in ascedent order by distance."
      ]
    },
    {
      "cell_type": "code",
      "metadata": {
        "id": "1EbIq_JnS6AK"
      },
      "source": [
        "def sortv(tup):\n",
        "  return(tup[1])"
      ],
      "execution_count": null,
      "outputs": []
    },
    {
      "cell_type": "code",
      "metadata": {
        "id": "90YwlvlKSfAP"
      },
      "source": [
        "distances.sort(key = sortv)"
      ],
      "execution_count": null,
      "outputs": []
    },
    {
      "cell_type": "markdown",
      "metadata": {
        "id": "NbMNLgY_us_O"
      },
      "source": [
        "Next step requires to get the nearest neighboors (lowest distances). For this test I get the seven lowest distances."
      ]
    },
    {
      "cell_type": "code",
      "metadata": {
        "id": "2sM-U_HgTy5T"
      },
      "source": [
        "neighbors = distances[0:7]"
      ],
      "execution_count": null,
      "outputs": []
    },
    {
      "cell_type": "code",
      "metadata": {
        "colab": {
          "base_uri": "https://localhost:8080/"
        },
        "id": "0dadQEanWcq4",
        "outputId": "016c21cf-5810-45e2-906a-9b0202503bce"
      },
      "source": [
        "neighbors"
      ],
      "execution_count": null,
      "outputs": [
        {
          "output_type": "execute_result",
          "data": {
            "text/plain": [
              "[(1, 0.14142135623730948),\n",
              " (1, 0.244948974278318),\n",
              " (1, 0.29999999999999954),\n",
              " (1, 0.2999999999999996),\n",
              " (1, 0.3605551275463989),\n",
              " (1, 0.424264068711928),\n",
              " (1, 0.424264068711928)]"
            ]
          },
          "metadata": {
            "tags": []
          },
          "execution_count": 247
        }
      ]
    },
    {
      "cell_type": "markdown",
      "metadata": {
        "id": "r32dcZQ4vIrk"
      },
      "source": [
        "Then, at the end I calculate the mode of the 7 neighbors."
      ]
    },
    {
      "cell_type": "code",
      "metadata": {
        "colab": {
          "base_uri": "https://localhost:8080/"
        },
        "id": "9bOH4-PvUOxp",
        "outputId": "29174206-6428-4cc7-bc98-2badf9be5f56"
      },
      "source": [
        "out = [row[0] for row in neighbors]\n",
        "max(set(out), key=out.count)"
      ],
      "execution_count": null,
      "outputs": [
        {
          "output_type": "execute_result",
          "data": {
            "text/plain": [
              "1"
            ]
          },
          "metadata": {
            "tags": []
          },
          "execution_count": 248
        }
      ]
    },
    {
      "cell_type": "code",
      "metadata": {
        "colab": {
          "base_uri": "https://localhost:8080/"
        },
        "id": "kh6ZvcLeVSB6",
        "outputId": "8d6240d1-13b1-4276-96a8-b95f2a72f10e"
      },
      "source": [
        "yteste"
      ],
      "execution_count": null,
      "outputs": [
        {
          "output_type": "execute_result",
          "data": {
            "text/plain": [
              "1"
            ]
          },
          "metadata": {
            "tags": []
          },
          "execution_count": 249
        }
      ]
    },
    {
      "cell_type": "markdown",
      "metadata": {
        "id": "5EaKBAbMvRBS"
      },
      "source": [
        "The KNN predict correct. I pass the codes to functions. Three function were constructed: distance (it calculates the euclidean distance from a point in the test set to all points in the train set), neighboors (it gets the k-nearest neighboors and predict the points) and predictKNN (it applies the last two functions to the entire test set)."
      ]
    },
    {
      "cell_type": "code",
      "metadata": {
        "id": "fxA3XI1IY2hd"
      },
      "source": [
        "def distance(xtrain, ytrain, rowtest):\n",
        "  distances = list()\n",
        "  c = -1\n",
        "  for row in xtrain:\n",
        "    distance = 0.0\n",
        "    c += 1\n",
        "    for i in range(len(row)):\n",
        "      distance += (row[i] - rowtest[i])**2\n",
        "    distances.append((ytrain[c], np.sqrt(distance)))\n",
        "  return distances\n",
        "\n"
      ],
      "execution_count": null,
      "outputs": []
    },
    {
      "cell_type": "code",
      "metadata": {
        "id": "sNlWlHzjZa-m"
      },
      "source": [
        "def sortv(tup):\n",
        "  return(tup[1])\n",
        "\n",
        "def neighbors(xtrain, ytrain, rowtest, k):\n",
        "  distances = distance(xtrain, ytrain,rowtest)\n",
        "  distances.sort(key = sortv)\n",
        "  neighbors = distances[0:k]\n",
        "  out = [row[0] for row in neighbors]\n",
        "  return max(set(out), key=out.count)"
      ],
      "execution_count": null,
      "outputs": []
    },
    {
      "cell_type": "code",
      "metadata": {
        "id": "fVVM7ZAxwfpc"
      },
      "source": [
        "def predictKNN(xtrain, ytrain, xtest,k):\n",
        "  predicts = list()\n",
        "  for rowtest2 in xtest:\n",
        "    prediction = neighbors(xtrain, ytrain, rowtest2, k)\n",
        "    predicts.append(prediction)\n",
        "  return predicts"
      ],
      "execution_count": null,
      "outputs": []
    },
    {
      "cell_type": "markdown",
      "metadata": {
        "id": "ASsk5gPtwiHS"
      },
      "source": [
        "Testing the functions."
      ]
    },
    {
      "cell_type": "code",
      "metadata": {
        "id": "k-IHiUCRwhpf"
      },
      "source": [
        "y_pred = predictKNN(X_train, y_train, X_test, 5)"
      ],
      "execution_count": null,
      "outputs": []
    },
    {
      "cell_type": "code",
      "metadata": {
        "colab": {
          "base_uri": "https://localhost:8080/"
        },
        "id": "RspAMvgrwnrH",
        "outputId": "1261dda9-f7f9-47e6-bcc7-515f37c3d805"
      },
      "source": [
        "from sklearn.metrics import accuracy_score\n",
        "accuracy = accuracy_score(y_test, y_pred)\n",
        "print(\"Accuracy: {:.2f} %\".format(accuracy*100))"
      ],
      "execution_count": null,
      "outputs": [
        {
          "output_type": "stream",
          "text": [
            "Accuracy: 100.00 %\n"
          ],
          "name": "stdout"
        }
      ]
    },
    {
      "cell_type": "markdown",
      "metadata": {
        "id": "RwrWvm4sx6zW"
      },
      "source": [
        "I compared with the function avaiable at Sklearn"
      ]
    },
    {
      "cell_type": "code",
      "metadata": {
        "id": "Iq_C-lS9j0BW"
      },
      "source": [
        "from sklearn.neighbors import KNeighborsClassifier\n",
        "neigh = KNeighborsClassifier(n_neighbors=5)\n",
        "neigh.fit(X_train, y_train)\n",
        "y_pred = neigh.predict(X_test)"
      ],
      "execution_count": null,
      "outputs": []
    },
    {
      "cell_type": "code",
      "metadata": {
        "colab": {
          "base_uri": "https://localhost:8080/"
        },
        "id": "ce4Yv8gqkFAJ",
        "outputId": "ea68c76b-19b1-483c-c0d2-218487d2c93c"
      },
      "source": [
        "accuracy = accuracy_score(y_test, y_pred)\n",
        "print(\"Accuracy: {:.2f} %\".format(accuracy*100))"
      ],
      "execution_count": null,
      "outputs": [
        {
          "output_type": "stream",
          "text": [
            "Accuracy: 100.00 %\n"
          ],
          "name": "stdout"
        }
      ]
    }
  ]
}